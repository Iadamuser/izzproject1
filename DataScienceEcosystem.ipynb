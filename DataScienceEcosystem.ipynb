{
  "metadata": {
    "kernelspec": {
      "name": "python",
      "display_name": "Python (Pyodide)",
      "language": "python"
    },
    "language_info": {
      "codemirror_mode": {
        "name": "python",
        "version": 3
      },
      "file_extension": ".py",
      "mimetype": "text/x-python",
      "name": "python",
      "nbconvert_exporter": "python",
      "pygments_lexer": "ipython3",
      "version": "3.8"
    }
  },
  "nbformat_minor": 4,
  "nbformat": 4,
  "cells": [
    {
      "cell_type": "markdown",
      "source": "# Data Science Tools and Ecosystem",
      "metadata": {}
    },
    {
      "cell_type": "markdown",
      "source": "__In this notebook, Data Science Tools and Ecosystem are summarized__",
      "metadata": {}
    },
    {
      "cell_type": "markdown",
      "source": "Some of the popular languages that Data Scientists use are:\n* R language\n* Phthon language\n* C++ language\n* Java script language\n* c language",
      "metadata": {}
    },
    {
      "cell_type": "markdown",
      "source": "Some of the commonly used libraries used by Data Sientists include:\n- Scientific Computing Libraries in Python\n- Visualization Libraries in Python\n- High- Level- Machine Learning and Deep Learning Libraries\n- Deep Learning Libraries in Python",
      "metadata": {}
    },
    {
      "cell_type": "markdown",
      "source": "| Data Scientce Tools |\n| ------------------- |\n| Jupyter |\n| RStudio |\n| Apache Spark |\n| Apache Flink |",
      "metadata": {}
    },
    {
      "cell_type": "markdown",
      "source": "### Below are a few examples of evaluating arthmetic expression in python\n1. 1\n1. 3 * 5\n2. ### Multiplication",
      "metadata": {}
    },
    {
      "cell_type": "code",
      "source": "(3*4)+5 # This a simple arithmetic expression to mutiply",
      "metadata": {
        "trusted": true
      },
      "outputs": [
        {
          "execution_count": 7,
          "output_type": "execute_result",
          "data": {
            "text/plain": "17"
          },
          "metadata": {}
        }
      ],
      "execution_count": 7
    },
    {
      "cell_type": "markdown",
      "source": "__Objectives__\n- SQL Language\n- Python Language\n- R Language\n- C++ Language\n- Java Script Language",
      "metadata": {}
    },
    {
      "cell_type": "markdown",
      "source": "## Author: Izzeldin Adam",
      "metadata": {}
    }
  ]
}